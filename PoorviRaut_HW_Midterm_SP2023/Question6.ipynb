{
 "cells": [
  {
   "cell_type": "code",
   "execution_count": 1,
   "id": "8925f264",
   "metadata": {},
   "outputs": [],
   "source": []
  },
  {
   "cell_type": "code",
   "execution_count": 5,
   "id": "f4735458",
   "metadata": {},
   "outputs": [],
   "source": [
    "#Load all the required modules\n",
    "import pandas as pd\n",
    "import numpy as np\n",
    "import matplotlib.pyplot as plt\n",
    "from sklearn.model_selection import train_test_split\n",
    "from sklearn.preprocessing import MinMaxScaler\n",
    "from sklearn.neighbors import KNeighborsClassifier\n",
    "from sklearn.metrics import (\n",
    "    confusion_matrix,\n",
    "    accuracy_score,\n",
    "    precision_score,\n",
    "    recall_score,\n",
    "    f1_score\n",
    ")"
   ]
  },
  {
   "cell_type": "code",
   "execution_count": 6,
   "id": "b741e14b",
   "metadata": {},
   "outputs": [],
   "source": [
    "\n",
    "data = pd.read_csv('CS513_targeting_num.csv')"
   ]
  },
  {
   "cell_type": "code",
   "execution_count": 7,
   "id": "bcb74538",
   "metadata": {},
   "outputs": [
    {
     "name": "stdout",
     "output_type": "stream",
     "text": [
      "<class 'pandas.core.frame.DataFrame'>\n",
      "RangeIndex: 80 entries, 0 to 79\n",
      "Data columns (total 5 columns):\n",
      " #   Column       Non-Null Count  Dtype \n",
      "---  ------       --------------  ----- \n",
      " 0   Customer ID  80 non-null     int64 \n",
      " 1   Age          80 non-null     int64 \n",
      " 2   Gender       80 non-null     object\n",
      " 3   Income       78 non-null     object\n",
      " 4   Purchase     80 non-null     object\n",
      "dtypes: int64(2), object(3)\n",
      "memory usage: 3.2+ KB\n"
     ]
    }
   ],
   "source": [
    "data.info()"
   ]
  },
  {
   "cell_type": "code",
   "execution_count": 8,
   "id": "84a692ff",
   "metadata": {},
   "outputs": [
    {
     "name": "stdout",
     "output_type": "stream",
     "text": [
      "Customer ID    0\n",
      "Age            0\n",
      "Gender         0\n",
      "Income         2\n",
      "Purchase       0\n",
      "dtype: int64\n"
     ]
    }
   ],
   "source": [
    "#Identifying missing values\n",
    "print(data.isna().sum())"
   ]
  },
  {
   "cell_type": "code",
   "execution_count": 9,
   "id": "bf39322b",
   "metadata": {},
   "outputs": [
    {
     "name": "stdout",
     "output_type": "stream",
     "text": [
      "Customer ID    0\n",
      "Age            0\n",
      "Gender         0\n",
      "Income         3\n",
      "Purchase       0\n",
      "dtype: int64\n"
     ]
    }
   ],
   "source": [
    "\n",
    "data.replace(' ',np.NaN, inplace=True)\n",
    "print(data.isna().sum())"
   ]
  },
  {
   "cell_type": "code",
   "execution_count": 10,
   "id": "c1d998f6",
   "metadata": {},
   "outputs": [],
   "source": [
    "# Remove rows with missing values\n",
    "data.dropna(inplace=True)"
   ]
  },
  {
   "cell_type": "code",
   "execution_count": 11,
   "id": "9d5a7f4d",
   "metadata": {},
   "outputs": [
    {
     "name": "stdout",
     "output_type": "stream",
     "text": [
      "Customer ID    0\n",
      "Age            0\n",
      "Gender         0\n",
      "Income         0\n",
      "Purchase       0\n",
      "dtype: int64\n"
     ]
    }
   ],
   "source": [
    "print(data.isna().sum())"
   ]
  },
  {
   "cell_type": "code",
   "execution_count": 12,
   "id": "a1b393b1",
   "metadata": {},
   "outputs": [],
   "source": [
    "data['Income'] = data['Income'].astype(int)"
   ]
  },
  {
   "cell_type": "code",
   "execution_count": 13,
   "id": "b4dbe676",
   "metadata": {},
   "outputs": [],
   "source": [
    "# Class labels conversion\n",
    "data['Gender'] = data['Gender'].replace(['M', 'F'], [0, 1])"
   ]
  },
  {
   "cell_type": "code",
   "execution_count": 14,
   "id": "dd486f41",
   "metadata": {},
   "outputs": [],
   "source": [
    "# Convert labels to factor class\n",
    "data['Purchase'] = data['Purchase'].astype('category')"
   ]
  },
  {
   "cell_type": "code",
   "execution_count": 15,
   "id": "281929a0",
   "metadata": {},
   "outputs": [],
   "source": [
    "data.drop('Customer ID', axis=1, inplace=True)"
   ]
  },
  {
   "cell_type": "code",
   "execution_count": 16,
   "id": "967c0823",
   "metadata": {},
   "outputs": [],
   "source": [
    "X1=data.iloc[:,:3]\n",
    "y1=data['Purchase']"
   ]
  },
  {
   "cell_type": "code",
   "execution_count": 25,
   "id": "d662327e",
   "metadata": {},
   "outputs": [],
   "source": [
    "#Split dataset 70-30% Train and test\n",
    "X_train, X_test, y_train, y_test = train_test_split(X1, y1, test_size=0.30, random_state=47)"
   ]
  },
  {
   "cell_type": "code",
   "execution_count": 26,
   "id": "06bf5293",
   "metadata": {},
   "outputs": [],
   "source": [
    "# Normalize feature variables using MinMaxScaler\n",
    "scaler = MinMaxScaler()\n",
    "X_train = scaler.fit_transform(X_train)\n",
    "X_test = scaler.transform(X_test)"
   ]
  },
  {
   "cell_type": "code",
   "execution_count": 27,
   "id": "5faeb73f",
   "metadata": {},
   "outputs": [
    {
     "name": "stdout",
     "output_type": "stream",
     "text": [
      "[[ 8  2]\n",
      " [ 3 11]]\n"
     ]
    }
   ],
   "source": [
    "# Run KNN with k=3\n",
    "k=3\n",
    "knn = KNeighborsClassifier(n_neighbors=k)\n",
    "knn.fit(X_train, y_train)\n",
    "y_pred = knn.predict(X_test)\n",
    "\n",
    "# Create confusion matrix and calculate accuracy\n",
    "conf_matrix = confusion_matrix(y_test, y_pred)\n",
    "print(conf_matrix)\n",
    "accuracy = accuracy_score(y_test, y_pred)"
   ]
  },
  {
   "cell_type": "code",
   "execution_count": 28,
   "id": "801472c9",
   "metadata": {},
   "outputs": [
    {
     "name": "stdout",
     "output_type": "stream",
     "text": [
      "Accuracy:  0.7916666666666666\n",
      "Error Rate 0.20833333333333337\n",
      "Precision = 0.8461538461538461\n",
      "Recall = 0.7857142857142857\n",
      "F1 Score = 0.8148148148148148\n"
     ]
    }
   ],
   "source": [
    "accuracy = accuracy_score(y_test, y_pred)\n",
    "print(\"Accuracy: \", accuracy)\n",
    "print(\"Error Rate\",1-accuracy)\n",
    "precision = precision_score(y_test, y_pred,pos_label='Yes')\n",
    "recall = recall_score(y_test, y_pred,pos_label='Yes')\n",
    "f1score = f1_score(y_test, y_pred,pos_label='Yes')\n",
    "\n",
    "print(f\"Precision = {precision}\")\n",
    "print(f\"Recall = {recall}\")\n",
    "print(f\"F1 Score = {f1score}\")"
   ]
  }
 ],
 "metadata": {
  "kernelspec": {
   "display_name": "Python 3 (ipykernel)",
   "language": "python",
   "name": "python3"
  },
  "language_info": {
   "codemirror_mode": {
    "name": "ipython",
    "version": 3
   },
   "file_extension": ".py",
   "mimetype": "text/x-python",
   "name": "python",
   "nbconvert_exporter": "python",
   "pygments_lexer": "ipython3",
   "version": "3.10.7"
  }
 },
 "nbformat": 4,
 "nbformat_minor": 5
}
